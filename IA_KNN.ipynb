{
 "cells": [
  {
   "cell_type": "markdown",
   "metadata": {
    "id": "m5tVff4dgKyg"
   },
   "source": [
    "# Treinamento"
   ]
  },
  {
   "cell_type": "markdown",
   "metadata": {
    "id": "P8xB4G8ogKym"
   },
   "source": [
    "### Carregando Arquivo de Treinamento (.csv)"
   ]
  },
  {
   "cell_type": "code",
   "execution_count": null,
   "metadata": {
    "colab": {
     "base_uri": "https://localhost:8080/"
    },
    "executionInfo": {
     "elapsed": 441,
     "status": "ok",
     "timestamp": 1695206415544,
     "user": {
      "displayName": "Alcides Xavier Benicasa",
      "userId": "09050602017292986066"
     },
     "user_tz": 180
    },
    "id": "a5MRh5ZfgKyn",
    "outputId": "8924cfc5-d0e3-4c83-f506-20ddf702aa43"
   },
   "outputs": [
    {
     "name": "stdout",
     "output_type": "stream",
     "text": [
      "--------------------------------------------------------\n",
      "Dados dos Pacientes - TREINAMENTO - Dimensão  (208, 9)\n",
      "--------------------------------------------------------\n",
      "[[6.000e+00 1.480e+02 7.200e+01 ... 6.270e-01 5.000e+01 1.000e+00]\n",
      " [1.000e+00 8.500e+01 6.600e+01 ... 3.510e-01 3.100e+01 0.000e+00]\n",
      " [8.000e+00 1.830e+02 6.400e+01 ... 6.720e-01 3.200e+01 1.000e+00]\n",
      " ...\n",
      " [4.000e+00 1.970e+02 7.000e+01 ... 2.329e+00 3.100e+01 0.000e+00]\n",
      " [0.000e+00 1.170e+02 8.000e+01 ... 8.900e-02 2.400e+01 0.000e+00]\n",
      " [4.000e+00 1.420e+02 8.600e+01 ... 6.450e-01 2.200e+01 1.000e+00]]\n",
      "---------------------------------\n",
      "Atributos de Entrada\n",
      "---------------------------------\n",
      "[[6.000e+00 1.480e+02 7.200e+01 ... 3.360e+01 6.270e-01 5.000e+01]\n",
      " [1.000e+00 8.500e+01 6.600e+01 ... 2.660e+01 3.510e-01 3.100e+01]\n",
      " [8.000e+00 1.830e+02 6.400e+01 ... 2.330e+01 6.720e-01 3.200e+01]\n",
      " ...\n",
      " [4.000e+00 1.970e+02 7.000e+01 ... 3.670e+01 2.329e+00 3.100e+01]\n",
      " [0.000e+00 1.170e+02 8.000e+01 ... 4.520e+01 8.900e-02 2.400e+01]\n",
      " [4.000e+00 1.420e+02 8.600e+01 ... 4.400e+01 6.450e-01 2.200e+01]]\n",
      "----------------------------\n",
      "Classificação Supervisionada\n",
      "----------------------------\n",
      "[1. 0. 1. 0. 1. 0. 1. 0. 1. 1. 0. 1. 0. 1. 1. 1. 1. 1. 0. 1. 0. 0. 1. 1.\n",
      " 1. 1. 1. 0. 0. 0. 0. 1. 0. 0. 0. 0. 0. 1. 1. 1. 0. 0. 0. 1. 0. 1. 0. 0.\n",
      " 1. 0. 0. 0. 0. 1. 0. 0. 1. 0. 0. 0. 0. 1. 0. 0. 1. 0. 1. 0. 0. 0. 1. 0.\n",
      " 1. 0. 0. 0. 0. 0. 1. 0. 0. 0. 0. 0. 1. 0. 0. 0. 1. 0. 0. 0. 0. 1. 0. 0.\n",
      " 0. 0. 0. 1. 0. 0. 0. 1. 1. 0. 0. 0. 1. 0. 1. 1. 0. 0. 1. 0. 0. 1. 1. 0.\n",
      " 0. 1. 0. 0. 1. 0. 0. 0. 0. 0. 0. 0. 1. 1. 1. 0. 0. 0. 0. 0. 0. 1. 1. 0.\n",
      " 0. 1. 0. 0. 1. 0. 1. 1. 1. 0. 0. 1. 1. 1. 0. 1. 0. 1. 0. 1. 0. 0. 0. 0.\n",
      " 1. 0. 1. 0. 1. 0. 1. 1. 1. 0. 0. 0. 0. 0. 0. 1. 1. 0. 1. 0. 0. 0. 1. 1.\n",
      " 1. 1. 0. 1. 1. 1. 1. 0. 0. 0. 0. 0. 1. 0. 0. 1.]\n"
     ]
    }
   ],
   "source": [
    "import pandas as pd\n",
    "# Carregando dados do arquivo CSV\n",
    "url = 'https://raw.githubusercontent.com/rafastos/atividadesIA/refs/heads/main/diabetes_treinamento.csv'\n",
    "base_Treinamento = pd.read_csv(url,sep=',', encoding = 'latin1').values\n",
    "print(\"--------------------------------------------------------\")\n",
    "print(\"Dados dos Pacientes - TREINAMENTO - Dimensão \", base_Treinamento.shape)\n",
    "print(\"--------------------------------------------------------\")\n",
    "print(base_Treinamento)\n",
    "print(\"---------------------------------\")\n",
    "\n",
    "# Extração dos Atributos a serem utilizadas pela rede\n",
    "print(\"Atributos de Entrada\")\n",
    "print(\"---------------------------------\")\n",
    "print(base_Treinamento[:, 0:8])\n",
    "\n",
    "print(\"----------------------------\")\n",
    "print(\"Classificação Supervisionada\")\n",
    "print(\"----------------------------\")\n",
    "print(base_Treinamento[:, -1])"
   ]
  },
  {
   "cell_type": "markdown",
   "metadata": {
    "id": "ZPpDXy7cgKyp"
   },
   "source": [
    "### Pré-processamento de Dados"
   ]
  },
  {
   "cell_type": "code",
   "execution_count": null,
   "metadata": {
    "colab": {
     "base_uri": "https://localhost:8080/"
    },
    "executionInfo": {
     "elapsed": 345,
     "status": "ok",
     "timestamp": 1695206421180,
     "user": {
      "displayName": "Alcides Xavier Benicasa",
      "userId": "09050602017292986066"
     },
     "user_tz": 180
    },
    "id": "L4nvyQJegKyq",
    "outputId": "45111557-d10b-49ae-fb5f-486f0a6154c1"
   },
   "outputs": [
    {
     "name": "stdout",
     "output_type": "stream",
     "text": [
      "--------------------------------\n",
      "Atributos de Entrada - Numéricos\n",
      "--------------------------------\n",
      "[[3.35523701e-02 8.27625129e-01 4.02628441e-01 ... 1.87893272e-01\n",
      "  3.50622267e-03 2.79603084e-01]\n",
      " [8.42400400e-03 7.16040340e-01 5.55984264e-01 ... 2.24078506e-01\n",
      "  2.95682540e-03 2.61144124e-01]\n",
      " [4.03976822e-02 9.24096981e-01 3.23181458e-01 ... 1.17658249e-01\n",
      "  3.39340531e-03 1.61590729e-01]\n",
      " ...\n",
      " [5.15927076e-03 2.54094085e-01 9.02872382e-02 ... 4.73363092e-02\n",
      "  3.00398540e-03 3.99843484e-02]\n",
      " [0.00000000e+00 7.19023161e-01 4.91639768e-01 ... 2.77776469e-01\n",
      "  5.46949242e-04 1.47491930e-01]\n",
      " [2.30953904e-02 8.19886358e-01 4.96550893e-01 ... 2.54049294e-01\n",
      "  3.72413170e-03 1.27024647e-01]]\n",
      "----------------------------------------\n",
      "Classificação Supervisionada - Numéricos\n",
      "----------------------------------------\n",
      "[1. 0. 1. 0. 1. 0. 1. 0. 1. 1. 0. 1. 0. 1. 1. 1. 1. 1. 0. 1. 0. 0. 1. 1.\n",
      " 1. 1. 1. 0. 0. 0. 0. 1. 0. 0. 0. 0. 0. 1. 1. 1. 0. 0. 0. 1. 0. 1. 0. 0.\n",
      " 1. 0. 0. 0. 0. 1. 0. 0. 1. 0. 0. 0. 0. 1. 0. 0. 1. 0. 1. 0. 0. 0. 1. 0.\n",
      " 1. 0. 0. 0. 0. 0. 1. 0. 0. 0. 0. 0. 1. 0. 0. 0. 1. 0. 0. 0. 0. 1. 0. 0.\n",
      " 0. 0. 0. 1. 0. 0. 0. 1. 1. 0. 0. 0. 1. 0. 1. 1. 0. 0. 1. 0. 0. 1. 1. 0.\n",
      " 0. 1. 0. 0. 1. 0. 0. 0. 0. 0. 0. 0. 1. 1. 1. 0. 0. 0. 0. 0. 0. 1. 1. 0.\n",
      " 0. 1. 0. 0. 1. 0. 1. 1. 1. 0. 0. 1. 1. 1. 0. 1. 0. 1. 0. 1. 0. 0. 0. 0.\n",
      " 1. 0. 1. 0. 1. 0. 1. 1. 1. 0. 0. 0. 0. 0. 0. 1. 1. 0. 1. 0. 0. 0. 1. 1.\n",
      " 1. 1. 0. 1. 1. 1. 1. 0. 0. 0. 0. 0. 1. 0. 0. 1.]\n"
     ]
    }
   ],
   "source": [
    "from sklearn import preprocessing\n",
    "\n",
    "# Normalizar\n",
    "norm = preprocessing.Normalizer()\n",
    "atributos_norm = norm.fit_transform(base_Treinamento[:, 0:8])\n",
    "\n",
    "print(\"--------------------------------\")\n",
    "print(\"Atributos de Entrada - Numéricos\")\n",
    "print(\"--------------------------------\")\n",
    "print(atributos_norm)\n",
    "\n",
    "classes = base_Treinamento[:, 8]\n",
    "print(\"----------------------------------------\")\n",
    "print(\"Classificação Supervisionada - Numéricos\")\n",
    "print(\"----------------------------------------\")\n",
    "print(classes)"
   ]
  },
  {
   "cell_type": "markdown",
   "metadata": {
    "id": "GC4FUfD5gKyr"
   },
   "source": [
    "### Treinamento do KNN (K-Nearest Neighbor)"
   ]
  },
  {
   "cell_type": "code",
   "execution_count": 17,
   "metadata": {
    "colab": {
     "base_uri": "https://localhost:8080/"
    },
    "executionInfo": {
     "elapsed": 3,
     "status": "ok",
     "timestamp": 1695206452990,
     "user": {
      "displayName": "Alcides Xavier Benicasa",
      "userId": "09050602017292986066"
     },
     "user_tz": 180
    },
    "id": "kDmPLB5FgKys",
    "outputId": "37563894-eda5-4360-99bb-cd0decfee87f"
   },
   "outputs": [
    {
     "name": "stdout",
     "output_type": "stream",
     "text": [
      "Acurácia: 0.779\n"
     ]
    }
   ],
   "source": [
    "from sklearn.neighbors import KNeighborsClassifier\n",
    "# Treinamento do Knn a partir dos atributos de entrada e classificações com K=3\n",
    "modelo = KNeighborsClassifier(n_neighbors = 3)\n",
    "modelo.fit(atributos_norm, classes)\n",
    "\n",
    "# Acurácia do modelo, que é : 1 - (predições erradas / total de predições)\n",
    "# Acurácia do modelo: indica uma performance geral do modelo.\n",
    "# Dentre todas as classificações, quantas o modelo classificou corretamente;\n",
    "# (VP+VN)/N\n",
    "print('Acurácia: %.3f' % modelo.score(atributos_norm, classes))"
   ]
  },
  {
   "cell_type": "markdown",
   "metadata": {
    "id": "HMwrAoNwgKyt"
   },
   "source": [
    "### ----------------------------------------------------------------------------"
   ]
  },
  {
   "cell_type": "markdown",
   "metadata": {
    "id": "6UKPw4jagKyu"
   },
   "source": [
    "# Validação do Aprendizado"
   ]
  },
  {
   "cell_type": "markdown",
   "metadata": {
    "id": "0tUmMoPHgKyv"
   },
   "source": [
    "### Predição Simples"
   ]
  },
  {
   "cell_type": "code",
   "execution_count": 18,
   "metadata": {
    "colab": {
     "base_uri": "https://localhost:8080/"
    },
    "executionInfo": {
     "elapsed": 4,
     "status": "ok",
     "timestamp": 1695206463155,
     "user": {
      "displayName": "Alcides Xavier Benicasa",
      "userId": "09050602017292986066"
     },
     "user_tz": 180
    },
    "id": "W4MRpx9PgKyw",
    "outputId": "158be0ae-64c5-4c7b-8cf1-a856e3294f82"
   },
   "outputs": [
    {
     "name": "stdout",
     "output_type": "stream",
     "text": [
      "Linha 769 [0.] Esperado: 0\n",
      "Linha 677 [0.] Esperado: 1\n"
     ]
    }
   ],
   "source": [
    "# Dados para teste\n",
    "dados_linha769 = [[1,93,70,31,0,30.4,0.315,23]]\n",
    "dados_linha677 = [[6,195,70,0,0,30.9,0.328,31]]\n",
    "\n",
    "# Normalizar e predizer\n",
    "linha769 = norm.transform(dados_linha769)\n",
    "print(\"Linha 769\", modelo.predict(linha769), \"Esperado: 0\")\n",
    "\n",
    "linha677 = norm.transform(dados_linha677)\n",
    "print(\"Linha 677\", modelo.predict(linha677), \"Esperado: 1\")"
   ]
  },
  {
   "cell_type": "markdown",
   "metadata": {
    "id": "VweXD-8_gKyx"
   },
   "source": [
    "### Predição a partir de base de dados (.csv)"
   ]
  },
  {
   "cell_type": "code",
   "execution_count": 25,
   "metadata": {
    "colab": {
     "base_uri": "https://localhost:8080/"
    },
    "executionInfo": {
     "elapsed": 7,
     "status": "ok",
     "timestamp": 1695206460672,
     "user": {
      "displayName": "Alcides Xavier Benicasa",
      "userId": "09050602017292986066"
     },
     "user_tz": 180
    },
    "id": "ceg0-DfVgKyx",
    "outputId": "70f3be48-c947-45d1-a45f-d4c14d1d1207"
   },
   "outputs": [
    {
     "name": "stdout",
     "output_type": "stream",
     "text": [
      "----------------------------\n",
      "Dados dos Pacientes - TESTES\n",
      "----------------------------\n",
      "[[  6.    148.     72.    ...   0.627  50.      1.   ]\n",
      " [  1.     85.     66.    ...   0.351  31.      0.   ]\n",
      " [  8.    183.     64.    ...   0.672  32.      1.   ]\n",
      " ...\n",
      " [  5.    121.     72.    ...   0.245  30.      0.   ]\n",
      " [  1.    126.     60.    ...   0.349  47.      1.   ]\n",
      " [  1.     93.     70.    ...   0.315  23.      0.   ]]\n",
      "---------------------------------\n",
      "Atributos de Entrada\n",
      "---------------------------------\n",
      "[[  6.    148.     72.    ...  33.6     0.627  50.   ]\n",
      " [  1.     85.     66.    ...  26.6     0.351  31.   ]\n",
      " [  8.    183.     64.    ...  23.3     0.672  32.   ]\n",
      " ...\n",
      " [  5.    121.     72.    ...  26.2     0.245  30.   ]\n",
      " [  1.    126.     60.    ...  30.1     0.349  47.   ]\n",
      " [  1.     93.     70.    ...  30.4     0.315  23.   ]]\n"
     ]
    }
   ],
   "source": [
    "import pandas as pd\n",
    "# Carregando dados do arquivo CSV\n",
    "url = 'https://raw.githubusercontent.com/rafastos/atividadesIA/refs/heads/main/diabetes.csv'\n",
    "dados_df = pd.read_csv(url,sep=',', encoding = 'latin1')\n",
    "base_Testes = dados_df.values\n",
    "print(\"----------------------------\")\n",
    "print(\"Dados dos Pacientes - TESTES\")\n",
    "print(\"----------------------------\")\n",
    "print(base_Testes)\n",
    "print(\"---------------------------------\")\n",
    "\n",
    "# Extração dos Atributos a serem utilizadas pela rede\n",
    "print(\"Atributos de Entrada\")\n",
    "print(\"---------------------------------\")\n",
    "print(base_Testes[:, 0:8])"
   ]
  },
  {
   "cell_type": "markdown",
   "metadata": {
    "id": "g6JQnLaEgKyx"
   },
   "source": [
    "### Pré-processamento de Dados"
   ]
  },
  {
   "cell_type": "code",
   "execution_count": 26,
   "metadata": {
    "colab": {
     "base_uri": "https://localhost:8080/"
    },
    "executionInfo": {
     "elapsed": 6,
     "status": "ok",
     "timestamp": 1695206460672,
     "user": {
      "displayName": "Alcides Xavier Benicasa",
      "userId": "09050602017292986066"
     },
     "user_tz": 180
    },
    "id": "SJM8C3IDgKyy",
    "outputId": "c6f9b38c-9aaf-4dcd-a232-514d49d95979"
   },
   "outputs": [
    {
     "name": "stdout",
     "output_type": "stream",
     "text": [
      "--------------------------------\n",
      "Atributos de Entrada - Numéricos\n",
      "--------------------------------\n",
      "[[0.03355237 0.82762513 0.40262844 ... 0.18789327 0.00350622 0.27960308]\n",
      " [0.008424   0.71604034 0.55598426 ... 0.22407851 0.00295683 0.26114412]\n",
      " [0.04039768 0.92409698 0.32318146 ... 0.11765825 0.00339341 0.16159073]\n",
      " ...\n",
      " [0.02691539 0.65135243 0.38758161 ... 0.14103664 0.00131885 0.16149234]\n",
      " [0.00665306 0.83828547 0.39918356 ... 0.20025708 0.00232192 0.31269379]\n",
      " [0.00791454 0.73605211 0.55401772 ... 0.24060198 0.00249308 0.18203439]]\n"
     ]
    }
   ],
   "source": [
    "atributos_norm = norm.transform(base_Testes[:, 0:8])\n",
    "\n",
    "print(\"--------------------------------\")\n",
    "print(\"Atributos de Entrada - Numéricos\")\n",
    "print(\"--------------------------------\")\n",
    "print(atributos_norm)"
   ]
  },
  {
   "cell_type": "markdown",
   "metadata": {
    "id": "3QO3B6S3gKyy"
   },
   "source": [
    "### Predição da Base"
   ]
  },
  {
   "cell_type": "code",
   "execution_count": 27,
   "metadata": {
    "colab": {
     "base_uri": "https://localhost:8080/"
    },
    "executionInfo": {
     "elapsed": 6,
     "status": "ok",
     "timestamp": 1695206460673,
     "user": {
      "displayName": "Alcides Xavier Benicasa",
      "userId": "09050602017292986066"
     },
     "user_tz": 180
    },
    "id": "3ZovGGdmgKyz",
    "outputId": "62fe6fdd-6f83-4a40-eb8e-f148d6a53c3d"
   },
   "outputs": [
    {
     "name": "stdout",
     "output_type": "stream",
     "text": [
      "Classificações:  [1. 0. 0. 0. 1. 0. 1. 1. 1. 0. 0. 1. 1. 1. 1. 0. 1. 1. 0. 1. 0. 0. 1. 0.\n",
      " 1. 1. 1. 0. 1. 0. 0. 0. 0. 0. 0. 1. 1. 0. 0. 0. 0. 0. 0. 0. 1. 1. 0. 0.\n",
      " 0. 0. 0. 0. 0. 0. 0. 0. 1. 1. 1. 1. 0. 1. 0. 0. 1. 0. 0. 0. 0. 1. 1. 0.\n",
      " 1. 0. 0. 0. 0. 0. 0. 0. 1. 0. 0. 0. 0. 0. 0. 0. 1. 0. 0. 0. 0. 1. 0. 0.\n",
      " 0. 0. 0. 1. 1. 1. 0. 0. 0. 1. 0. 0. 0. 0. 1. 1. 0. 0. 1. 0. 0. 0. 0. 0.\n",
      " 0. 0. 0. 1. 0. 1. 0. 1. 0. 0. 1. 1. 1. 1. 0. 1. 0. 0. 0. 1. 1. 0. 0. 1.\n",
      " 1. 0. 0. 0. 1. 0. 0. 1. 0. 1. 1. 0. 0. 1. 0. 1. 0. 0. 0. 0. 0. 1. 1. 1.\n",
      " 0. 0. 0. 0. 1. 0. 0. 1. 0. 0. 1. 0. 0. 1. 0. 1. 1. 1. 1. 0. 0. 0. 0. 1.\n",
      " 1. 1. 0. 0. 0. 0. 1. 0. 0. 0. 0. 0. 0. 0. 1. 1. 1. 1. 0. 0. 1. 0. 1. 1.\n",
      " 1. 0. 1. 1. 1. 1. 0. 0. 0. 0. 0. 1. 1. 0. 0. 0. 0. 0. 0. 1. 1. 0. 0. 0.\n",
      " 0. 0. 1. 1. 0. 1. 1. 1. 1. 0. 1. 0. 0. 0. 0. 0. 0. 0. 1. 1. 1. 0. 0. 1.\n",
      " 1. 0. 0. 0. 1. 0. 0. 0. 1. 0. 1. 0. 0. 0. 0. 0. 1. 1. 0. 1. 0. 1. 1. 1.\n",
      " 1. 0. 0. 0. 0. 0. 1. 0. 1. 0. 1. 0. 0. 0. 0. 0. 1. 1. 1. 1. 0. 0. 1. 0.\n",
      " 1. 1. 0. 1. 0. 1. 0. 1. 1. 0. 0. 0. 0. 1. 1. 0. 0. 0. 0. 0. 0. 0. 0. 0.\n",
      " 0. 1. 0. 1. 0. 0. 0. 0. 0. 1. 0. 0. 1. 0. 0. 0. 0. 0. 0. 1. 1. 0. 0. 1.\n",
      " 1. 1. 0. 1. 0. 1. 0. 0. 0. 0. 1. 0. 0. 1. 1. 0. 0. 1. 1. 0. 1. 0. 0. 0.\n",
      " 0. 0. 0. 0. 1. 1. 0. 1. 1. 0. 1. 0. 1. 0. 0. 1. 0. 1. 0. 0. 0. 1. 1. 0.\n",
      " 0. 1. 0. 0. 0. 0. 1. 1. 0. 0. 0. 0. 0. 0. 0. 0. 0. 1. 0. 1. 0. 1. 0. 0.\n",
      " 0. 1. 0. 0. 0. 1. 0. 0. 0. 0. 0. 1. 1. 1. 0. 0. 0. 0. 0. 1. 0. 0. 1. 1.\n",
      " 1. 0. 0. 0. 0. 0. 0. 1. 0. 1. 0. 1. 0. 0. 0. 0. 0. 1. 0. 0. 1. 0. 0. 0.\n",
      " 0. 0. 0. 0. 0. 0. 1. 1. 0. 1. 0. 0. 0. 1. 0. 1. 1. 0. 1. 1. 0. 0. 0. 1.\n",
      " 0. 0. 1. 1. 1. 0. 1. 1. 0. 0. 0. 1. 1. 1. 0. 0. 0. 0. 0. 1. 1. 0. 0. 0.\n",
      " 0. 0. 0. 0. 0. 1. 0. 0. 0. 0. 0. 0. 1. 0. 1. 0. 0. 1. 1. 1. 0. 0. 0. 0.\n",
      " 0. 0. 1. 0. 0. 0. 0. 0. 1. 1. 0. 0. 0. 0. 0. 1. 0. 0. 0. 0. 0. 0. 0. 0.\n",
      " 1. 0. 1. 1. 0. 0. 0. 1. 1. 0. 1. 1. 1. 0. 0. 1. 1. 1. 0. 1. 0. 0. 1. 1.\n",
      " 0. 0. 0. 1. 0. 0. 1. 0. 1. 0. 0. 1. 1. 0. 1. 0. 0. 0. 0. 0. 0. 1. 1. 0.\n",
      " 0. 0. 0. 0. 1. 0. 1. 1. 0. 0. 1. 1. 0. 0. 0. 0. 0. 0. 1. 1. 0. 1. 1. 0.\n",
      " 1. 0. 0. 0. 0. 1. 0. 1. 0. 1. 0. 0. 1. 1. 1. 0. 1. 0. 1. 0. 0. 1. 1. 0.\n",
      " 0. 1. 0. 0. 1. 0. 1. 0. 0. 1. 1. 0. 1. 0. 1. 1. 1. 1. 1. 1. 1. 1. 0. 1.\n",
      " 1. 0. 0. 0. 0. 0. 1. 0. 0. 0. 0. 0. 1. 1. 0. 0. 1. 0. 0. 1. 0. 0. 0. 1.\n",
      " 0. 0. 0. 1. 0. 0. 0. 0. 1. 0. 0. 0. 0. 0. 0. 0. 0. 0. 0. 1. 1. 1. 1. 1.\n",
      " 0. 0. 0. 0. 1. 1. 1. 0. 0. 1. 1. 1. 0. 1. 0. 1. 0. 1. 1. 0. 0. 0. 1. 0.]\n"
     ]
    }
   ],
   "source": [
    "base_Predicao = modelo.predict((atributos_norm))\n",
    "print(\"Classificações: \", base_Predicao)"
   ]
  },
  {
   "cell_type": "markdown",
   "metadata": {
    "id": "Y7ZxJwGAgKyz"
   },
   "source": [
    "### Retorno aos valores Categóricos"
   ]
  },
  {
   "cell_type": "code",
   "execution_count": 29,
   "metadata": {
    "colab": {
     "base_uri": "https://localhost:8080/"
    },
    "executionInfo": {
     "elapsed": 5,
     "status": "ok",
     "timestamp": 1695206460673,
     "user": {
      "displayName": "Alcides Xavier Benicasa",
      "userId": "09050602017292986066"
     },
     "user_tz": 180
    },
    "id": "EE96lEuPgKy0",
    "outputId": "d17a250a-865f-421c-fbb6-1a83d7232854"
   },
   "outputs": [
    {
     "name": "stdout",
     "output_type": "stream",
     "text": [
      "--------------------------------\n",
      "Atributos de Entrada - Numéricos\n",
      "--------------------------------\n",
      "[[  6.    148.     72.    ...   0.627  50.      1.   ]\n",
      " [  1.     85.     66.    ...   0.351  31.      0.   ]\n",
      " [  8.    183.     64.    ...   0.672  32.      0.   ]\n",
      " ...\n",
      " [  5.    121.     72.    ...   0.245  30.      0.   ]\n",
      " [  1.    126.     60.    ...   0.349  47.      1.   ]\n",
      " [  1.     93.     70.    ...   0.315  23.      0.   ]]\n"
     ]
    }
   ],
   "source": [
    "import numpy as np\n",
    "\n",
    "atributos_com_predicao = np.column_stack((base_Testes[:, 0:8], base_Predicao))\n",
    "print(\"--------------------------------\")\n",
    "print(\"Atributos de Entrada - Numéricos\")\n",
    "print(\"--------------------------------\")\n",
    "print(atributos_com_predicao)\n"
   ]
  },
  {
   "cell_type": "code",
   "execution_count": null,
   "metadata": {},
   "outputs": [
    {
     "name": "stdout",
     "output_type": "stream",
     "text": [
      "RESULTADO FINAL EM FORMATO TABULAR\n",
      "==================================================\n",
      "   Pregnancies  Glucose  BloodPressure  SkinThickness  Insulin   BMI  \\\n",
      "0          6.0    148.0           72.0           35.0      0.0  33.6   \n",
      "1          1.0     85.0           66.0           29.0      0.0  26.6   \n",
      "2          8.0    183.0           64.0            0.0      0.0  23.3   \n",
      "3          1.0     89.0           66.0           23.0     94.0  28.1   \n",
      "4          0.0    137.0           40.0           35.0    168.0  43.1   \n",
      "5          5.0    116.0           74.0            0.0      0.0  25.6   \n",
      "6          3.0     78.0           50.0           32.0     88.0  31.0   \n",
      "7         10.0    115.0            0.0            0.0      0.0  35.3   \n",
      "8          2.0    197.0           70.0           45.0    543.0  30.5   \n",
      "9          8.0    125.0           96.0            0.0      0.0   0.0   \n",
      "\n",
      "   DiabetesPedigreeFunction   Age  Predição  \n",
      "0                     0.627  50.0       1.0  \n",
      "1                     0.351  31.0       0.0  \n",
      "2                     0.672  32.0       0.0  \n",
      "3                     0.167  21.0       0.0  \n",
      "4                     2.288  33.0       1.0  \n",
      "5                     0.201  30.0       0.0  \n",
      "6                     0.248  26.0       1.0  \n",
      "7                     0.134  29.0       1.0  \n",
      "8                     0.158  53.0       1.0  \n",
      "9                     0.232  54.0       0.0  \n"
     ]
    }
   ],
   "source": [
    "print(\"RESULTADO FINAL EM FORMATO TABULAR\")\n",
    "print(\"=\"*50)\n",
    "colunas_finais = dados_df.columns.tolist()[:-1] + [\"Predição\"]\n",
    "resultado_df = pd.DataFrame(atributos_com_predicao, columns=colunas_finais)\n",
    "print(resultado_df.head(10))"
   ]
  }
 ],
 "metadata": {
  "colab": {
   "provenance": [
    {
     "file_id": "1-LJWg6n6WwnnYxDM3P9C8Zm1hHZ-ZKPk",
     "timestamp": 1665078701955
    }
   ]
  },
  "kernelspec": {
   "display_name": "Python 3",
   "language": "python",
   "name": "python3"
  },
  "language_info": {
   "codemirror_mode": {
    "name": "ipython",
    "version": 3
   },
   "file_extension": ".py",
   "mimetype": "text/x-python",
   "name": "python",
   "nbconvert_exporter": "python",
   "pygments_lexer": "ipython3",
   "version": "3.11.9"
  }
 },
 "nbformat": 4,
 "nbformat_minor": 0
}
